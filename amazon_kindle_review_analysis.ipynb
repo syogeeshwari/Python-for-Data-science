{
 "cells": [
  {
   "cell_type": "markdown",
   "metadata": {},
   "source": [
    "## Sentiment Analysis of Amazon kindle store reviews using NLTK"
   ]
  },
  {
   "cell_type": "markdown",
   "metadata": {},
   "source": [
    "The dataset I have used comes from Kaggle. It is a subset of dataset of product reviews from Amazon Kindle Store category from May 1996 to July 2014. Dataset Link: https://www.kaggle.com/bharadwaj6/kindle-reviews"
   ]
  },
  {
   "cell_type": "markdown",
   "metadata": {},
   "source": [
    "### Libraries needed for the analysis"
   ]
  },
  {
   "cell_type": "code",
   "execution_count": 1,
   "metadata": {},
   "outputs": [],
   "source": [
    "import pandas as pd\n",
    "import nltk\n",
    "import matplotlib.pyplot as plt\n",
    "import numpy as np\n",
    "from nltk import word_tokenize\n",
    "from nltk.corpus import stopwords\n",
    "import string\n",
    "#Libraries needed for building word cloud\n",
    "from os import path\n",
    "from PIL import Image\n",
    "from wordcloud import WordCloud, STOPWORDS, ImageColorGenerator"
   ]
  },
  {
   "cell_type": "markdown",
   "metadata": {},
   "source": [
    "### Loading data into a dataframe"
   ]
  },
  {
   "cell_type": "code",
   "execution_count": 2,
   "metadata": {},
   "outputs": [],
   "source": [
    "df = pd.read_csv(\"G:\\edx_courses\\python_for_data_science\\week_9_final_project\\kindle_reviews.csv\\kindle_reviews.csv\",sep=\",\")"
   ]
  },
  {
   "cell_type": "code",
   "execution_count": 3,
   "metadata": {},
   "outputs": [
    {
     "data": {
      "text/plain": [
       "(982619, 10)"
      ]
     },
     "execution_count": 3,
     "metadata": {},
     "output_type": "execute_result"
    }
   ],
   "source": [
    "df.shape"
   ]
  },
  {
   "cell_type": "markdown",
   "metadata": {},
   "source": [
    "### Cleaning and Exploring the data"
   ]
  },
  {
   "cell_type": "code",
   "execution_count": 4,
   "metadata": {},
   "outputs": [
    {
     "data": {
      "text/plain": [
       "Unnamed: 0        False\n",
       "asin              False\n",
       "helpful           False\n",
       "overall           False\n",
       "reviewText         True\n",
       "reviewTime        False\n",
       "reviewerID        False\n",
       "reviewerName       True\n",
       "summary            True\n",
       "unixReviewTime    False\n",
       "dtype: bool"
      ]
     },
     "execution_count": 4,
     "metadata": {},
     "output_type": "execute_result"
    }
   ],
   "source": [
    "#checking for missing values\n",
    "df.isnull().any()"
   ]
  },
  {
   "cell_type": "code",
   "execution_count": 5,
   "metadata": {},
   "outputs": [
    {
     "data": {
      "text/plain": [
       "Index(['Unnamed: 0', 'asin', 'helpful', 'overall', 'reviewText', 'reviewTime',\n",
       "       'reviewerID', 'reviewerName', 'summary', 'unixReviewTime'],\n",
       "      dtype='object')"
      ]
     },
     "execution_count": 5,
     "metadata": {},
     "output_type": "execute_result"
    }
   ],
   "source": [
    "df.columns  "
   ]
  },
  {
   "cell_type": "code",
   "execution_count": 6,
   "metadata": {},
   "outputs": [
    {
     "data": {
      "text/plain": [
       "Unnamed: 0         int64\n",
       "asin              object\n",
       "helpful           object\n",
       "overall            int64\n",
       "reviewText        object\n",
       "reviewTime        object\n",
       "reviewerID        object\n",
       "reviewerName      object\n",
       "summary           object\n",
       "unixReviewTime     int64\n",
       "dtype: object"
      ]
     },
     "execution_count": 6,
     "metadata": {},
     "output_type": "execute_result"
    }
   ],
   "source": [
    "df.dtypes"
   ]
  },
  {
   "cell_type": "code",
   "execution_count": 7,
   "metadata": {},
   "outputs": [],
   "source": [
    "rows_before = df.shape[0]"
   ]
  },
  {
   "cell_type": "code",
   "execution_count": 8,
   "metadata": {},
   "outputs": [],
   "source": [
    "#dropping all the null values\n",
    "df = df.dropna()"
   ]
  },
  {
   "cell_type": "code",
   "execution_count": 9,
   "metadata": {},
   "outputs": [],
   "source": [
    "rows_after=df.shape[0]"
   ]
  },
  {
   "cell_type": "code",
   "execution_count": 10,
   "metadata": {},
   "outputs": [
    {
     "data": {
      "text/plain": [
       "3839"
      ]
     },
     "execution_count": 10,
     "metadata": {},
     "output_type": "execute_result"
    }
   ],
   "source": [
    "#the no. of rows dropped\n",
    "rows_before-rows_after"
   ]
  },
  {
   "cell_type": "code",
   "execution_count": 11,
   "metadata": {},
   "outputs": [
    {
     "data": {
      "text/plain": [
       "Unnamed: 0        False\n",
       "asin              False\n",
       "helpful           False\n",
       "overall           False\n",
       "reviewText        False\n",
       "reviewTime        False\n",
       "reviewerID        False\n",
       "reviewerName      False\n",
       "summary           False\n",
       "unixReviewTime    False\n",
       "dtype: bool"
      ]
     },
     "execution_count": 11,
     "metadata": {},
     "output_type": "execute_result"
    }
   ],
   "source": [
    "#cross validating for any null values\n",
    "df.isnull().any()"
   ]
  },
  {
   "cell_type": "code",
   "execution_count": 12,
   "metadata": {},
   "outputs": [],
   "source": [
    "df_copy = df.copy()"
   ]
  },
  {
   "cell_type": "code",
   "execution_count": 13,
   "metadata": {},
   "outputs": [
    {
     "data": {
      "text/plain": [
       "Index(['Unnamed: 0', 'asin', 'helpful', 'overall', 'reviewText', 'reviewTime',\n",
       "       'reviewerID', 'reviewerName', 'summary', 'unixReviewTime'],\n",
       "      dtype='object')"
      ]
     },
     "execution_count": 13,
     "metadata": {},
     "output_type": "execute_result"
    }
   ],
   "source": [
    "df.columns"
   ]
  },
  {
   "cell_type": "code",
   "execution_count": 14,
   "metadata": {},
   "outputs": [
    {
     "data": {
      "text/html": [
       "<div>\n",
       "<style scoped>\n",
       "    .dataframe tbody tr th:only-of-type {\n",
       "        vertical-align: middle;\n",
       "    }\n",
       "\n",
       "    .dataframe tbody tr th {\n",
       "        vertical-align: top;\n",
       "    }\n",
       "\n",
       "    .dataframe thead th {\n",
       "        text-align: right;\n",
       "    }\n",
       "</style>\n",
       "<table border=\"1\" class=\"dataframe\">\n",
       "  <thead>\n",
       "    <tr style=\"text-align: right;\">\n",
       "      <th></th>\n",
       "      <th>Unnamed: 0</th>\n",
       "      <th>asin</th>\n",
       "      <th>helpful</th>\n",
       "      <th>overall</th>\n",
       "      <th>reviewText</th>\n",
       "      <th>reviewTime</th>\n",
       "      <th>reviewerID</th>\n",
       "      <th>reviewerName</th>\n",
       "      <th>summary</th>\n",
       "      <th>unixReviewTime</th>\n",
       "    </tr>\n",
       "  </thead>\n",
       "  <tbody>\n",
       "    <tr>\n",
       "      <th>0</th>\n",
       "      <td>0</td>\n",
       "      <td>B000F83SZQ</td>\n",
       "      <td>[0, 0]</td>\n",
       "      <td>5</td>\n",
       "      <td>I enjoy vintage books and movies so I enjoyed ...</td>\n",
       "      <td>05 5, 2014</td>\n",
       "      <td>A1F6404F1VG29J</td>\n",
       "      <td>Avidreader</td>\n",
       "      <td>Nice vintage story</td>\n",
       "      <td>1399248000</td>\n",
       "    </tr>\n",
       "    <tr>\n",
       "      <th>1</th>\n",
       "      <td>1</td>\n",
       "      <td>B000F83SZQ</td>\n",
       "      <td>[2, 2]</td>\n",
       "      <td>4</td>\n",
       "      <td>This book is a reissue of an old one; the auth...</td>\n",
       "      <td>01 6, 2014</td>\n",
       "      <td>AN0N05A9LIJEQ</td>\n",
       "      <td>critters</td>\n",
       "      <td>Different...</td>\n",
       "      <td>1388966400</td>\n",
       "    </tr>\n",
       "    <tr>\n",
       "      <th>2</th>\n",
       "      <td>2</td>\n",
       "      <td>B000F83SZQ</td>\n",
       "      <td>[2, 2]</td>\n",
       "      <td>4</td>\n",
       "      <td>This was a fairly interesting read.  It had ol...</td>\n",
       "      <td>04 4, 2014</td>\n",
       "      <td>A795DMNCJILA6</td>\n",
       "      <td>dot</td>\n",
       "      <td>Oldie</td>\n",
       "      <td>1396569600</td>\n",
       "    </tr>\n",
       "  </tbody>\n",
       "</table>\n",
       "</div>"
      ],
      "text/plain": [
       "   Unnamed: 0        asin helpful  overall  \\\n",
       "0           0  B000F83SZQ  [0, 0]        5   \n",
       "1           1  B000F83SZQ  [2, 2]        4   \n",
       "2           2  B000F83SZQ  [2, 2]        4   \n",
       "\n",
       "                                          reviewText  reviewTime  \\\n",
       "0  I enjoy vintage books and movies so I enjoyed ...  05 5, 2014   \n",
       "1  This book is a reissue of an old one; the auth...  01 6, 2014   \n",
       "2  This was a fairly interesting read.  It had ol...  04 4, 2014   \n",
       "\n",
       "       reviewerID reviewerName             summary  unixReviewTime  \n",
       "0  A1F6404F1VG29J   Avidreader  Nice vintage story      1399248000  \n",
       "1   AN0N05A9LIJEQ     critters        Different...      1388966400  \n",
       "2   A795DMNCJILA6          dot               Oldie      1396569600  "
      ]
     },
     "execution_count": 14,
     "metadata": {},
     "output_type": "execute_result"
    }
   ],
   "source": [
    "df.head(3)"
   ]
  },
  {
   "cell_type": "code",
   "execution_count": 15,
   "metadata": {},
   "outputs": [],
   "source": [
    "#creating a new column 'year' from the existing column 'reviewTime' for plotting purpose\n",
    "df['year'] =df['reviewTime'].str.extract(\".*\\,\\s(.*)\",expand=True)"
   ]
  },
  {
   "cell_type": "code",
   "execution_count": 16,
   "metadata": {},
   "outputs": [],
   "source": [
    "del df['Unnamed: 0']\n",
    "del df['unixReviewTime']"
   ]
  },
  {
   "cell_type": "code",
   "execution_count": 17,
   "metadata": {},
   "outputs": [
    {
     "data": {
      "text/html": [
       "<div>\n",
       "<style scoped>\n",
       "    .dataframe tbody tr th:only-of-type {\n",
       "        vertical-align: middle;\n",
       "    }\n",
       "\n",
       "    .dataframe tbody tr th {\n",
       "        vertical-align: top;\n",
       "    }\n",
       "\n",
       "    .dataframe thead th {\n",
       "        text-align: right;\n",
       "    }\n",
       "</style>\n",
       "<table border=\"1\" class=\"dataframe\">\n",
       "  <thead>\n",
       "    <tr style=\"text-align: right;\">\n",
       "      <th></th>\n",
       "      <th>reviewText</th>\n",
       "    </tr>\n",
       "    <tr>\n",
       "      <th>overall</th>\n",
       "      <th></th>\n",
       "    </tr>\n",
       "  </thead>\n",
       "  <tbody>\n",
       "    <tr>\n",
       "      <th>1</th>\n",
       "      <td>22814</td>\n",
       "    </tr>\n",
       "    <tr>\n",
       "      <th>2</th>\n",
       "      <td>33932</td>\n",
       "    </tr>\n",
       "    <tr>\n",
       "      <th>3</th>\n",
       "      <td>95728</td>\n",
       "    </tr>\n",
       "    <tr>\n",
       "      <th>4</th>\n",
       "      <td>253082</td>\n",
       "    </tr>\n",
       "    <tr>\n",
       "      <th>5</th>\n",
       "      <td>573224</td>\n",
       "    </tr>\n",
       "  </tbody>\n",
       "</table>\n",
       "</div>"
      ],
      "text/plain": [
       "         reviewText\n",
       "overall            \n",
       "1             22814\n",
       "2             33932\n",
       "3             95728\n",
       "4            253082\n",
       "5            573224"
      ]
     },
     "execution_count": 17,
     "metadata": {},
     "output_type": "execute_result"
    }
   ],
   "source": [
    "#value count of ratings\n",
    "rating_counts = df[['overall','reviewText']].groupby('overall').count()\n",
    "rating_counts"
   ]
  },
  {
   "cell_type": "code",
   "execution_count": 18,
   "metadata": {},
   "outputs": [],
   "source": [
    "#creating a df for plotting the overall scores vs year\n",
    "review_year_df = df[['reviewText','year']].groupby('year',as_index=False).count()"
   ]
  },
  {
   "cell_type": "code",
   "execution_count": 19,
   "metadata": {},
   "outputs": [
    {
     "data": {
      "text/html": [
       "<div>\n",
       "<style scoped>\n",
       "    .dataframe tbody tr th:only-of-type {\n",
       "        vertical-align: middle;\n",
       "    }\n",
       "\n",
       "    .dataframe tbody tr th {\n",
       "        vertical-align: top;\n",
       "    }\n",
       "\n",
       "    .dataframe thead th {\n",
       "        text-align: right;\n",
       "    }\n",
       "</style>\n",
       "<table border=\"1\" class=\"dataframe\">\n",
       "  <thead>\n",
       "    <tr style=\"text-align: right;\">\n",
       "      <th></th>\n",
       "      <th>year</th>\n",
       "      <th>reviewText</th>\n",
       "    </tr>\n",
       "  </thead>\n",
       "  <tbody>\n",
       "    <tr>\n",
       "      <th>0</th>\n",
       "      <td>2000</td>\n",
       "      <td>8</td>\n",
       "    </tr>\n",
       "    <tr>\n",
       "      <th>1</th>\n",
       "      <td>2001</td>\n",
       "      <td>2</td>\n",
       "    </tr>\n",
       "    <tr>\n",
       "      <th>2</th>\n",
       "      <td>2002</td>\n",
       "      <td>1</td>\n",
       "    </tr>\n",
       "    <tr>\n",
       "      <th>3</th>\n",
       "      <td>2003</td>\n",
       "      <td>4</td>\n",
       "    </tr>\n",
       "    <tr>\n",
       "      <th>4</th>\n",
       "      <td>2004</td>\n",
       "      <td>10</td>\n",
       "    </tr>\n",
       "    <tr>\n",
       "      <th>5</th>\n",
       "      <td>2005</td>\n",
       "      <td>18</td>\n",
       "    </tr>\n",
       "    <tr>\n",
       "      <th>6</th>\n",
       "      <td>2006</td>\n",
       "      <td>23</td>\n",
       "    </tr>\n",
       "    <tr>\n",
       "      <th>7</th>\n",
       "      <td>2007</td>\n",
       "      <td>39</td>\n",
       "    </tr>\n",
       "    <tr>\n",
       "      <th>8</th>\n",
       "      <td>2008</td>\n",
       "      <td>191</td>\n",
       "    </tr>\n",
       "    <tr>\n",
       "      <th>9</th>\n",
       "      <td>2009</td>\n",
       "      <td>510</td>\n",
       "    </tr>\n",
       "    <tr>\n",
       "      <th>10</th>\n",
       "      <td>2010</td>\n",
       "      <td>3975</td>\n",
       "    </tr>\n",
       "    <tr>\n",
       "      <th>11</th>\n",
       "      <td>2011</td>\n",
       "      <td>26441</td>\n",
       "    </tr>\n",
       "    <tr>\n",
       "      <th>12</th>\n",
       "      <td>2012</td>\n",
       "      <td>119632</td>\n",
       "    </tr>\n",
       "    <tr>\n",
       "      <th>13</th>\n",
       "      <td>2013</td>\n",
       "      <td>418642</td>\n",
       "    </tr>\n",
       "    <tr>\n",
       "      <th>14</th>\n",
       "      <td>2014</td>\n",
       "      <td>409284</td>\n",
       "    </tr>\n",
       "  </tbody>\n",
       "</table>\n",
       "</div>"
      ],
      "text/plain": [
       "    year  reviewText\n",
       "0   2000           8\n",
       "1   2001           2\n",
       "2   2002           1\n",
       "3   2003           4\n",
       "4   2004          10\n",
       "5   2005          18\n",
       "6   2006          23\n",
       "7   2007          39\n",
       "8   2008         191\n",
       "9   2009         510\n",
       "10  2010        3975\n",
       "11  2011       26441\n",
       "12  2012      119632\n",
       "13  2013      418642\n",
       "14  2014      409284"
      ]
     },
     "execution_count": 19,
     "metadata": {},
     "output_type": "execute_result"
    }
   ],
   "source": [
    "review_year_df"
   ]
  },
  {
   "cell_type": "code",
   "execution_count": 20,
   "metadata": {},
   "outputs": [],
   "source": [
    "%matplotlib inline\n",
    "\n",
    "#function for plotting\n",
    "def plot_bar(d):\n",
    "    years=d['year'].values\n",
    "    reviews = d['reviewText'].values\n",
    "    plt.plot(years,reviews,color='green', marker='o', linestyle='dashed',linewidth=2, markersize=9)\n",
    "    plt.ylabel('no. of reviews')\n",
    "    plt.xticks(years,rotation='vertical')\n",
    "    plt.title('Number of reviews over year')\n",
    "    plt.show()"
   ]
  },
  {
   "cell_type": "code",
   "execution_count": 21,
   "metadata": {},
   "outputs": [
    {
     "data": {
      "image/png": "[encoded data removed]",
      "text/plain": [
       "<Figure size 432x288 with 1 Axes>"
      ]
     },
     "metadata": {},
     "output_type": "display_data"
    }
   ],
   "source": [
    "plot_bar(review_year_df)"
   ]
  },
  {
   "cell_type": "markdown",
   "metadata": {},
   "source": [
    "No.of reviews vs. Review categories\n"
   ]
  },
  {
   "cell_type": "code",
   "execution_count": 23,
   "metadata": {},
   "outputs": [],
   "source": [
    "review_category_df = df[['reviewText','overall']].groupby('overall',as_index=False).count()"
   ]
  },
  {
   "cell_type": "code",
   "execution_count": 24,
   "metadata": {},
   "outputs": [
    {
     "data": {
      "text/html": [
       "<div>\n",
       "<style scoped>\n",
       "    .dataframe tbody tr th:only-of-type {\n",
       "        vertical-align: middle;\n",
       "    }\n",
       "\n",
       "    .dataframe tbody tr th {\n",
       "        vertical-align: top;\n",
       "    }\n",
       "\n",
       "    .dataframe thead th {\n",
       "        text-align: right;\n",
       "    }\n",
       "</style>\n",
       "<table border=\"1\" class=\"dataframe\">\n",
       "  <thead>\n",
       "    <tr style=\"text-align: right;\">\n",
       "      <th></th>\n",
       "      <th>overall</th>\n",
       "      <th>reviewText</th>\n",
       "    </tr>\n",
       "  </thead>\n",
       "  <tbody>\n",
       "    <tr>\n",
       "      <th>0</th>\n",
       "      <td>1</td>\n",
       "      <td>22814</td>\n",
       "    </tr>\n",
       "    <tr>\n",
       "      <th>1</th>\n",
       "      <td>2</td>\n",
       "      <td>33932</td>\n",
       "    </tr>\n",
       "    <tr>\n",
       "      <th>2</th>\n",
       "      <td>3</td>\n",
       "      <td>95728</td>\n",
       "    </tr>\n",
       "    <tr>\n",
       "      <th>3</th>\n",
       "      <td>4</td>\n",
       "      <td>253082</td>\n",
       "    </tr>\n",
       "    <tr>\n",
       "      <th>4</th>\n",
       "      <td>5</td>\n",
       "      <td>573224</td>\n",
       "    </tr>\n",
       "  </tbody>\n",
       "</table>\n",
       "</div>"
      ],
      "text/plain": [
       "   overall  reviewText\n",
       "0        1       22814\n",
       "1        2       33932\n",
       "2        3       95728\n",
       "3        4      253082\n",
       "4        5      573224"
      ]
     },
     "execution_count": 24,
     "metadata": {},
     "output_type": "execute_result"
    }
   ],
   "source": [
    "review_category_df"
   ]
  },
  {
   "cell_type": "code",
   "execution_count": 25,
   "metadata": {},
   "outputs": [
    {
     "data": {
      "image/png": "[encoded data removed]",
      "text/plain": [
       "<Figure size 432x288 with 1 Axes>"
      ]
     },
     "metadata": {},
     "output_type": "display_data"
    }
   ],
   "source": [
    "plt.bar(review_category_df['overall'],review_category_df['reviewText'],log=1)\n",
    "plt.xlabel(\"Rating category\")\n",
    "plt.ylabel(\"No. of reviews (log)\")\n",
    "plt.title(\"Data based on different categories\")\n",
    "plt.show()"
   ]
  },
  {
   "cell_type": "markdown",
   "metadata": {},
   "source": [
    "### creating filters to get the positive and negative reviews"
   ]
  },
  {
   "cell_type": "markdown",
   "metadata": {},
   "source": [
    "Rating system for Amazon.com\n",
    "\n",
    "Based on the research paper by Fang X*, and Zhan J from the Journal of Big Data \"Sentiment analysis using product review data.\" I have included the rating system for Amazon reviews.\n",
    "\n",
    "    Ratings    Comments\n",
    "\n",
    "    1 star     I hate it.\n",
    "\n",
    "    2 star     I don't like it.\n",
    "\n",
    "    3 star     It's okay.\n",
    "\n",
    "    4 star     I like it.\n",
    "\n",
    "    5 star     I love it."
   ]
  },
  {
   "cell_type": "code",
   "execution_count": 26,
   "metadata": {},
   "outputs": [
    {
     "data": {
      "text/plain": [
       "(978780, 9)"
      ]
     },
     "execution_count": 26,
     "metadata": {},
     "output_type": "execute_result"
    }
   ],
   "source": [
    "df.shape"
   ]
  },
  {
   "cell_type": "code",
   "execution_count": 27,
   "metadata": {},
   "outputs": [
    {
     "data": {
      "text/plain": [
       "Index(['asin', 'helpful', 'overall', 'reviewText', 'reviewTime', 'reviewerID',\n",
       "       'reviewerName', 'summary', 'year'],\n",
       "      dtype='object')"
      ]
     },
     "execution_count": 27,
     "metadata": {},
     "output_type": "execute_result"
    }
   ],
   "source": [
    "df.columns"
   ]
  },
  {
   "cell_type": "code",
   "execution_count": 28,
   "metadata": {},
   "outputs": [],
   "source": [
    "#positive reviews\n",
    "#those reviews with overall rating 4 & 5 are considered positive\n",
    "positive_filter = df['overall'] > 3\n",
    "positive_reviews = df[positive_filter]"
   ]
  },
  {
   "cell_type": "code",
   "execution_count": 29,
   "metadata": {},
   "outputs": [
    {
     "data": {
      "text/plain": [
       "(826306, 9)"
      ]
     },
     "execution_count": 29,
     "metadata": {},
     "output_type": "execute_result"
    }
   ],
   "source": [
    "positive_reviews.shape"
   ]
  },
  {
   "cell_type": "code",
   "execution_count": 30,
   "metadata": {},
   "outputs": [],
   "source": [
    "#negative reviews\n",
    "#reviews with overall rating 1 & 2 are considered negative\n",
    "negative_filter = df['overall'] <3\n",
    "negative_reviews = df[negative_filter]"
   ]
  },
  {
   "cell_type": "code",
   "execution_count": 31,
   "metadata": {},
   "outputs": [
    {
     "data": {
      "text/plain": [
       "(56746, 9)"
      ]
     },
     "execution_count": 31,
     "metadata": {},
     "output_type": "execute_result"
    }
   ],
   "source": [
    "negative_reviews.shape"
   ]
  },
  {
   "cell_type": "code",
   "execution_count": 32,
   "metadata": {},
   "outputs": [],
   "source": [
    "#positive_review_list = positive_reviews['reviewText'][:2000]\n",
    "#negative_review_list = negative_reviews['reviewText'][:2000]\n",
    "positive_review_list = positive_reviews.sample(n=2000)\n",
    "negative_review_list = negative_reviews.sample(n=2000)"
   ]
  },
  {
   "cell_type": "code",
   "execution_count": 37,
   "metadata": {},
   "outputs": [
    {
     "data": {
      "text/html": [
       "<div>\n",
       "<style scoped>\n",
       "    .dataframe tbody tr th:only-of-type {\n",
       "        vertical-align: middle;\n",
       "    }\n",
       "\n",
       "    .dataframe tbody tr th {\n",
       "        vertical-align: top;\n",
       "    }\n",
       "\n",
       "    .dataframe thead th {\n",
       "        text-align: right;\n",
       "    }\n",
       "</style>\n",
       "<table border=\"1\" class=\"dataframe\">\n",
       "  <thead>\n",
       "    <tr style=\"text-align: right;\">\n",
       "      <th></th>\n",
       "      <th>asin</th>\n",
       "      <th>helpful</th>\n",
       "      <th>overall</th>\n",
       "      <th>reviewText</th>\n",
       "      <th>reviewTime</th>\n",
       "      <th>reviewerID</th>\n",
       "      <th>reviewerName</th>\n",
       "      <th>summary</th>\n",
       "      <th>year</th>\n",
       "    </tr>\n",
       "  </thead>\n",
       "  <tbody>\n",
       "    <tr>\n",
       "      <th>243649</th>\n",
       "      <td>B008AMCR6U</td>\n",
       "      <td>[0, 0]</td>\n",
       "      <td>5</td>\n",
       "      <td>This book truly caps off the BeSwitched Series...</td>\n",
       "      <td>12 3, 2013</td>\n",
       "      <td>A3G1AI4K00I24Z</td>\n",
       "      <td>Heaven G.</td>\n",
       "      <td>GREAT READ!</td>\n",
       "      <td>2013</td>\n",
       "    </tr>\n",
       "    <tr>\n",
       "      <th>447523</th>\n",
       "      <td>B00BN0T8ZO</td>\n",
       "      <td>[0, 0]</td>\n",
       "      <td>5</td>\n",
       "      <td>S*** is abt to gt real. This book good as he'l...</td>\n",
       "      <td>05 29, 2014</td>\n",
       "      <td>AEWTM9BHEHDIC</td>\n",
       "      <td>Asia Kelley</td>\n",
       "      <td>Damn</td>\n",
       "      <td>2014</td>\n",
       "    </tr>\n",
       "    <tr>\n",
       "      <th>753148</th>\n",
       "      <td>B00H8BEZS2</td>\n",
       "      <td>[3, 3]</td>\n",
       "      <td>5</td>\n",
       "      <td>This book is absolutely amazing and one I will...</td>\n",
       "      <td>03 17, 2014</td>\n",
       "      <td>AWP0UKN7P53QT</td>\n",
       "      <td>Djits</td>\n",
       "      <td>Wow.</td>\n",
       "      <td>2014</td>\n",
       "    </tr>\n",
       "    <tr>\n",
       "      <th>633542</th>\n",
       "      <td>B00EW7DHBG</td>\n",
       "      <td>[1, 1]</td>\n",
       "      <td>5</td>\n",
       "      <td>I just finished this book and I loved it.  The...</td>\n",
       "      <td>09 13, 2013</td>\n",
       "      <td>A31BDZZG803M93</td>\n",
       "      <td>Kelly Neely</td>\n",
       "      <td>Loved it but needed some serious editing.</td>\n",
       "      <td>2013</td>\n",
       "    </tr>\n",
       "    <tr>\n",
       "      <th>393418</th>\n",
       "      <td>B00ATQT3PS</td>\n",
       "      <td>[0, 0]</td>\n",
       "      <td>5</td>\n",
       "      <td>This a great story, I kind of can't wait for t...</td>\n",
       "      <td>07 22, 2013</td>\n",
       "      <td>AFTMVK7R7JCKW</td>\n",
       "      <td>Claudia Hernandez</td>\n",
       "      <td>Amazing!</td>\n",
       "      <td>2013</td>\n",
       "    </tr>\n",
       "    <tr>\n",
       "      <th>664929</th>\n",
       "      <td>B00FGHYLD4</td>\n",
       "      <td>[0, 0]</td>\n",
       "      <td>4</td>\n",
       "      <td>This was a delightful play on Cinderella. This...</td>\n",
       "      <td>10 21, 2013</td>\n",
       "      <td>A24OB0Y1OJ3A03</td>\n",
       "      <td>Love to read witty and clean</td>\n",
       "      <td>Charming :)</td>\n",
       "      <td>2013</td>\n",
       "    </tr>\n",
       "    <tr>\n",
       "      <th>620122</th>\n",
       "      <td>B00EMNJUD4</td>\n",
       "      <td>[0, 0]</td>\n",
       "      <td>4</td>\n",
       "      <td>I truly enjoyed this book, and can&amp;#8217;t wai...</td>\n",
       "      <td>07 14, 2014</td>\n",
       "      <td>AYZYK3JD0O3CU</td>\n",
       "      <td>Marilynn Solis \"Caitysmom\"</td>\n",
       "      <td>Very entertaining</td>\n",
       "      <td>2014</td>\n",
       "    </tr>\n",
       "    <tr>\n",
       "      <th>215425</th>\n",
       "      <td>B007WNBYXA</td>\n",
       "      <td>[1, 1]</td>\n",
       "      <td>5</td>\n",
       "      <td>Very practical. A fast read with striking word...</td>\n",
       "      <td>04 25, 2012</td>\n",
       "      <td>AXL3BVNLSGN6K</td>\n",
       "      <td>KevinC</td>\n",
       "      <td>This Book Makes Sense</td>\n",
       "      <td>2012</td>\n",
       "    </tr>\n",
       "    <tr>\n",
       "      <th>437392</th>\n",
       "      <td>B00BHIBLOS</td>\n",
       "      <td>[0, 0]</td>\n",
       "      <td>5</td>\n",
       "      <td>This book gives new meaning to teachers pet!! ...</td>\n",
       "      <td>07 28, 2013</td>\n",
       "      <td>A38VHK9477G84L</td>\n",
       "      <td>LMR</td>\n",
       "      <td>Sizzling Hot</td>\n",
       "      <td>2013</td>\n",
       "    </tr>\n",
       "    <tr>\n",
       "      <th>174740</th>\n",
       "      <td>B0074ZTD4S</td>\n",
       "      <td>[0, 0]</td>\n",
       "      <td>5</td>\n",
       "      <td>This book was so good!!  Brandon is the man!! ...</td>\n",
       "      <td>04 12, 2013</td>\n",
       "      <td>APZG1T1DHH1CX</td>\n",
       "      <td>JuicyMo \"%Queen~Bee%\"</td>\n",
       "      <td>GOOD!!!</td>\n",
       "      <td>2013</td>\n",
       "    </tr>\n",
       "  </tbody>\n",
       "</table>\n",
       "</div>"
      ],
      "text/plain": [
       "              asin helpful  overall  \\\n",
       "243649  B008AMCR6U  [0, 0]        5   \n",
       "447523  B00BN0T8ZO  [0, 0]        5   \n",
       "753148  B00H8BEZS2  [3, 3]        5   \n",
       "633542  B00EW7DHBG  [1, 1]        5   \n",
       "393418  B00ATQT3PS  [0, 0]        5   \n",
       "664929  B00FGHYLD4  [0, 0]        4   \n",
       "620122  B00EMNJUD4  [0, 0]        4   \n",
       "215425  B007WNBYXA  [1, 1]        5   \n",
       "437392  B00BHIBLOS  [0, 0]        5   \n",
       "174740  B0074ZTD4S  [0, 0]        5   \n",
       "\n",
       "                                               reviewText   reviewTime  \\\n",
       "243649  This book truly caps off the BeSwitched Series...   12 3, 2013   \n",
       "447523  S*** is abt to gt real. This book good as he'l...  05 29, 2014   \n",
       "753148  This book is absolutely amazing and one I will...  03 17, 2014   \n",
       "633542  I just finished this book and I loved it.  The...  09 13, 2013   \n",
       "393418  This a great story, I kind of can't wait for t...  07 22, 2013   \n",
       "664929  This was a delightful play on Cinderella. This...  10 21, 2013   \n",
       "620122  I truly enjoyed this book, and can&#8217;t wai...  07 14, 2014   \n",
       "215425  Very practical. A fast read with striking word...  04 25, 2012   \n",
       "437392  This book gives new meaning to teachers pet!! ...  07 28, 2013   \n",
       "174740  This book was so good!!  Brandon is the man!! ...  04 12, 2013   \n",
       "\n",
       "            reviewerID                  reviewerName  \\\n",
       "243649  A3G1AI4K00I24Z                     Heaven G.   \n",
       "447523   AEWTM9BHEHDIC                   Asia Kelley   \n",
       "753148   AWP0UKN7P53QT                         Djits   \n",
       "633542  A31BDZZG803M93                   Kelly Neely   \n",
       "393418   AFTMVK7R7JCKW             Claudia Hernandez   \n",
       "664929  A24OB0Y1OJ3A03  Love to read witty and clean   \n",
       "620122   AYZYK3JD0O3CU    Marilynn Solis \"Caitysmom\"   \n",
       "215425   AXL3BVNLSGN6K                        KevinC   \n",
       "437392  A38VHK9477G84L                           LMR   \n",
       "174740   APZG1T1DHH1CX         JuicyMo \"%Queen~Bee%\"   \n",
       "\n",
       "                                          summary  year  \n",
       "243649                                GREAT READ!  2013  \n",
       "447523                                       Damn  2014  \n",
       "753148                                       Wow.  2014  \n",
       "633542  Loved it but needed some serious editing.  2013  \n",
       "393418                                   Amazing!  2013  \n",
       "664929                                Charming :)  2013  \n",
       "620122                          Very entertaining  2014  \n",
       "215425                      This Book Makes Sense  2012  \n",
       "437392                               Sizzling Hot  2013  \n",
       "174740                                    GOOD!!!  2013  "
      ]
     },
     "execution_count": 37,
     "metadata": {},
     "output_type": "execute_result"
    }
   ],
   "source": [
    "positive_review_list.head(10)"
   ]
  },
  {
   "cell_type": "code",
   "execution_count": 39,
   "metadata": {},
   "outputs": [
    {
     "data": {
      "text/html": [
       "<div>\n",
       "<style scoped>\n",
       "    .dataframe tbody tr th:only-of-type {\n",
       "        vertical-align: middle;\n",
       "    }\n",
       "\n",
       "    .dataframe tbody tr th {\n",
       "        vertical-align: top;\n",
       "    }\n",
       "\n",
       "    .dataframe thead th {\n",
       "        text-align: right;\n",
       "    }\n",
       "</style>\n",
       "<table border=\"1\" class=\"dataframe\">\n",
       "  <thead>\n",
       "    <tr style=\"text-align: right;\">\n",
       "      <th></th>\n",
       "      <th>asin</th>\n",
       "      <th>helpful</th>\n",
       "      <th>overall</th>\n",
       "      <th>reviewText</th>\n",
       "      <th>reviewTime</th>\n",
       "      <th>reviewerID</th>\n",
       "      <th>reviewerName</th>\n",
       "      <th>summary</th>\n",
       "      <th>year</th>\n",
       "    </tr>\n",
       "  </thead>\n",
       "  <tbody>\n",
       "    <tr>\n",
       "      <th>812574</th>\n",
       "      <td>B00I6HQWT2</td>\n",
       "      <td>[1, 1]</td>\n",
       "      <td>2</td>\n",
       "      <td>This was an extremely short story, so I wasn't...</td>\n",
       "      <td>02 21, 2014</td>\n",
       "      <td>A1BUPA617VIGSM</td>\n",
       "      <td>Rebecca Waters</td>\n",
       "      <td>I don't get it?</td>\n",
       "      <td>2014</td>\n",
       "    </tr>\n",
       "    <tr>\n",
       "      <th>952678</th>\n",
       "      <td>B00KSB7MIY</td>\n",
       "      <td>[3, 4]</td>\n",
       "      <td>2</td>\n",
       "      <td>Ok, let's see:-Basic premise has been used bef...</td>\n",
       "      <td>07 6, 2014</td>\n",
       "      <td>A1YI8ILV6V4YVH</td>\n",
       "      <td>Tessa</td>\n",
       "      <td>Didn't even use spellchecker!</td>\n",
       "      <td>2014</td>\n",
       "    </tr>\n",
       "    <tr>\n",
       "      <th>691645</th>\n",
       "      <td>B00G19AZTK</td>\n",
       "      <td>[2, 15]</td>\n",
       "      <td>1</td>\n",
       "      <td>Book was ok,it took me a long time to finish,a...</td>\n",
       "      <td>01 26, 2014</td>\n",
       "      <td>ALTC2XJE67A7Z</td>\n",
       "      <td>Marie</td>\n",
       "      <td>Review</td>\n",
       "      <td>2014</td>\n",
       "    </tr>\n",
       "    <tr>\n",
       "      <th>793379</th>\n",
       "      <td>B00HVQIKBC</td>\n",
       "      <td>[3, 3]</td>\n",
       "      <td>1</td>\n",
       "      <td>I'd been warned, but I like to make my own dec...</td>\n",
       "      <td>02 18, 2014</td>\n",
       "      <td>ASQIFMZ216FU9</td>\n",
       "      <td>Deirdre</td>\n",
       "      <td>Pregnant  Male Shifter</td>\n",
       "      <td>2014</td>\n",
       "    </tr>\n",
       "    <tr>\n",
       "      <th>266135</th>\n",
       "      <td>B008NVJJDW</td>\n",
       "      <td>[8, 8]</td>\n",
       "      <td>1</td>\n",
       "      <td>Im so pissed that I purchased this book and it...</td>\n",
       "      <td>10 2, 2012</td>\n",
       "      <td>AHKSL6DUHMD7R</td>\n",
       "      <td>What happened?</td>\n",
       "      <td>Pissed Off</td>\n",
       "      <td>2012</td>\n",
       "    </tr>\n",
       "  </tbody>\n",
       "</table>\n",
       "</div>"
      ],
      "text/plain": [
       "              asin  helpful  overall  \\\n",
       "812574  B00I6HQWT2   [1, 1]        2   \n",
       "952678  B00KSB7MIY   [3, 4]        2   \n",
       "691645  B00G19AZTK  [2, 15]        1   \n",
       "793379  B00HVQIKBC   [3, 3]        1   \n",
       "266135  B008NVJJDW   [8, 8]        1   \n",
       "\n",
       "                                               reviewText   reviewTime  \\\n",
       "812574  This was an extremely short story, so I wasn't...  02 21, 2014   \n",
       "952678  Ok, let's see:-Basic premise has been used bef...   07 6, 2014   \n",
       "691645  Book was ok,it took me a long time to finish,a...  01 26, 2014   \n",
       "793379  I'd been warned, but I like to make my own dec...  02 18, 2014   \n",
       "266135  Im so pissed that I purchased this book and it...   10 2, 2012   \n",
       "\n",
       "            reviewerID    reviewerName                        summary  year  \n",
       "812574  A1BUPA617VIGSM  Rebecca Waters                I don't get it?  2014  \n",
       "952678  A1YI8ILV6V4YVH           Tessa  Didn't even use spellchecker!  2014  \n",
       "691645   ALTC2XJE67A7Z           Marie                         Review  2014  \n",
       "793379   ASQIFMZ216FU9         Deirdre         Pregnant  Male Shifter  2014  \n",
       "266135   AHKSL6DUHMD7R  What happened?                     Pissed Off  2012  "
      ]
     },
     "execution_count": 39,
     "metadata": {},
     "output_type": "execute_result"
    }
   ],
   "source": [
    "negative_review_list.head()"
   ]
  },
  {
   "cell_type": "code",
   "execution_count": 42,
   "metadata": {},
   "outputs": [
    {
     "data": {
      "text/plain": [
       "1931"
      ]
     },
     "execution_count": 42,
     "metadata": {},
     "output_type": "execute_result"
    }
   ],
   "source": [
    "len(positive_review_list['asin'].unique().tolist())"
   ]
  },
  {
   "cell_type": "code",
   "execution_count": 45,
   "metadata": {},
   "outputs": [
    {
     "data": {
      "text/plain": [
       "61932"
      ]
     },
     "execution_count": 45,
     "metadata": {},
     "output_type": "execute_result"
    }
   ],
   "source": [
    "len(df['asin'].unique().tolist())"
   ]
  },
  {
   "cell_type": "code",
   "execution_count": 44,
   "metadata": {},
   "outputs": [
    {
     "data": {
      "text/plain": [
       "Int64Index([243649, 447523, 753148, 633542, 393418, 664929, 620122, 215425,\n",
       "            437392, 174740,\n",
       "            ...\n",
       "            178740,   5841, 403392, 448745,  24132, 487071,  78221, 161693,\n",
       "            814515, 519969],\n",
       "           dtype='int64', length=2000)"
      ]
     },
     "execution_count": 44,
     "metadata": {},
     "output_type": "execute_result"
    }
   ],
   "source": [
    "positive_review_list.index"
   ]
  },
  {
   "cell_type": "markdown",
   "metadata": {},
   "source": [
    "### Word Tokenization"
   ]
  },
  {
   "cell_type": "markdown",
   "metadata": {},
   "source": [
    "Tokenizing words for the reviews\n",
    "Using word_tokenizer trained on English from NLTK's punkt"
   ]
  },
  {
   "cell_type": "code",
   "execution_count": 33,
   "metadata": {},
   "outputs": [],
   "source": [
    "positive_review_tokenized = [nltk.word_tokenize(word) for word in positive_review_list]\n",
    "negative_review_tokenized = [nltk.word_tokenize(word) for word in negative_review_list]"
   ]
  },
  {
   "cell_type": "code",
   "execution_count": 34,
   "metadata": {},
   "outputs": [
    {
     "data": {
      "text/plain": [
       "['I',\n",
       " \"'d\",\n",
       " 'never',\n",
       " 'read',\n",
       " 'any',\n",
       " 'of',\n",
       " 'the',\n",
       " 'Amy',\n",
       " 'Brewster',\n",
       " 'mysteries',\n",
       " 'until',\n",
       " 'this',\n",
       " 'one..',\n",
       " 'So',\n",
       " 'I',\n",
       " 'am',\n",
       " 'really',\n",
       " 'hooked',\n",
       " 'on',\n",
       " 'them',\n",
       " 'now',\n",
       " '.']"
      ]
     },
     "execution_count": 34,
     "metadata": {},
     "output_type": "execute_result"
    }
   ],
   "source": [
    "positive_review_tokenized[3]"
   ]
  },
  {
   "cell_type": "markdown",
   "metadata": {},
   "source": [
    "### Removing stopwords and punctuations"
   ]
  },
  {
   "cell_type": "markdown",
   "metadata": {},
   "source": [
    "We need to remove stopwords and punctuations from our words list for further analysis. This can be acheived by using stopwords corpus from nltk for English. We can get the punctuations from string class."
   ]
  },
  {
   "cell_type": "code",
   "execution_count": 35,
   "metadata": {},
   "outputs": [],
   "source": [
    "#here is the line of code for useless words list\n",
    "useless_words = nltk.corpus.stopwords.words(\"english\") + list(string.punctuation)"
   ]
  },
  {
   "cell_type": "code",
   "execution_count": 36,
   "metadata": {},
   "outputs": [],
   "source": [
    "#function for removing uselesswords\n",
    "def remove_uselesswords(words):\n",
    "    return [word for word in words if not word.lower() in useless_words]"
   ]
  },
  {
   "cell_type": "markdown",
   "metadata": {},
   "source": [
    "For the lists we have created using tokenized words(positive_review_tokenized, negative_review_tokenized), we need to remove all the useless words. We achieve it in the following step:"
   ]
  },
  {
   "cell_type": "code",
   "execution_count": 37,
   "metadata": {},
   "outputs": [],
   "source": [
    "#positive_words_filtered = [remove_uselesswords(w) for w in positive_review_tokenized]\n",
    "#negative_words_filtered = [remove_uselesswords(w) for w in negative_review_tokenized]\n",
    "positive_words_filtered = []\n",
    "negative_words_filtered = []\n",
    "\n",
    "for w in positive_review_tokenized:\n",
    "    positive_words_filtered.append(remove_uselesswords(w))\n",
    "\n",
    "for w in negative_review_tokenized:\n",
    "    negative_words_filtered.append(remove_uselesswords(w))\n"
   ]
  },
  {
   "cell_type": "markdown",
   "metadata": {},
   "source": [
    "checking the number of words before and after applying remove_uselesswords function. Shown below is the number of words of first item from positive_review_tokenized list, before the filtering criteria."
   ]
  },
  {
   "cell_type": "code",
   "execution_count": 38,
   "metadata": {},
   "outputs": [
    {
     "data": {
      "text/plain": [
       "57"
      ]
     },
     "execution_count": 38,
     "metadata": {},
     "output_type": "execute_result"
    }
   ],
   "source": [
    "len(positive_review_tokenized[0])"
   ]
  },
  {
   "cell_type": "code",
   "execution_count": 39,
   "metadata": {},
   "outputs": [
    {
     "data": {
      "text/plain": [
       "29"
      ]
     },
     "execution_count": 39,
     "metadata": {},
     "output_type": "execute_result"
    }
   ],
   "source": [
    "#number of words after filtering\n",
    "len(positive_words_filtered[0])"
   ]
  },
  {
   "cell_type": "markdown",
   "metadata": {},
   "source": [
    "we see that the number of words after filtering for the first item in positive list has been reduced from 57 to 29. Similarly we see a reduction in the number of words for the first item negative review list."
   ]
  },
  {
   "cell_type": "code",
   "execution_count": 40,
   "metadata": {},
   "outputs": [
    {
     "data": {
      "text/plain": [
       "342"
      ]
     },
     "execution_count": 40,
     "metadata": {},
     "output_type": "execute_result"
    }
   ],
   "source": [
    "len(negative_review_tokenized[0])"
   ]
  },
  {
   "cell_type": "code",
   "execution_count": 41,
   "metadata": {},
   "outputs": [
    {
     "data": {
      "text/plain": [
       "185"
      ]
     },
     "execution_count": 41,
     "metadata": {},
     "output_type": "execute_result"
    }
   ],
   "source": [
    "len(negative_words_filtered[0])"
   ]
  },
  {
   "cell_type": "markdown",
   "metadata": {},
   "source": [
    "### cleaning digits from our words list"
   ]
  },
  {
   "cell_type": "code",
   "execution_count": 42,
   "metadata": {},
   "outputs": [],
   "source": [
    "#defining function for removing digits from our words list\n",
    "def remove_digits(words):\n",
    "    return [word for word in words if not word.isdigit()]"
   ]
  },
  {
   "cell_type": "code",
   "execution_count": 43,
   "metadata": {},
   "outputs": [],
   "source": [
    "positive_words_digits_filtered = []\n",
    "negative_words_digits_filtered = []\n",
    "\n",
    "for w in positive_words_filtered:\n",
    "    positive_words_digits_filtered.append(remove_digits(w))\n",
    "\n",
    "for w in negative_words_filtered:\n",
    "    negative_words_digits_filtered.append(remove_digits(w))"
   ]
  },
  {
   "cell_type": "code",
   "execution_count": 44,
   "metadata": {},
   "outputs": [
    {
     "data": {
      "text/plain": [
       "19"
      ]
     },
     "execution_count": 44,
     "metadata": {},
     "output_type": "execute_result"
    }
   ],
   "source": [
    "len(positive_words_filtered[5])"
   ]
  },
  {
   "cell_type": "code",
   "execution_count": 45,
   "metadata": {},
   "outputs": [
    {
     "data": {
      "text/plain": [
       "17"
      ]
     },
     "execution_count": 45,
     "metadata": {},
     "output_type": "execute_result"
    }
   ],
   "source": [
    "len(positive_words_digits_filtered[5])"
   ]
  },
  {
   "cell_type": "markdown",
   "metadata": {},
   "source": [
    "We see that the digits in the following list item has been removed after filtering for digits"
   ]
  },
  {
   "cell_type": "code",
   "execution_count": 46,
   "metadata": {},
   "outputs": [
    {
     "data": {
      "text/plain": [
       "['beautiful',\n",
       " 'in-depth',\n",
       " 'character',\n",
       " 'description',\n",
       " 'makes',\n",
       " 'like',\n",
       " 'fast',\n",
       " 'pacing',\n",
       " 'movie',\n",
       " 'pity',\n",
       " 'Mr',\n",
       " 'Merwin',\n",
       " 'write',\n",
       " '30',\n",
       " 'instead',\n",
       " '3',\n",
       " 'Amy',\n",
       " 'Brewster',\n",
       " 'mysteries']"
      ]
     },
     "execution_count": 46,
     "metadata": {},
     "output_type": "execute_result"
    }
   ],
   "source": [
    "#before filtering for digits\n",
    "positive_words_filtered[5]"
   ]
  },
  {
   "cell_type": "code",
   "execution_count": 47,
   "metadata": {},
   "outputs": [
    {
     "data": {
      "text/plain": [
       "['beautiful',\n",
       " 'in-depth',\n",
       " 'character',\n",
       " 'description',\n",
       " 'makes',\n",
       " 'like',\n",
       " 'fast',\n",
       " 'pacing',\n",
       " 'movie',\n",
       " 'pity',\n",
       " 'Mr',\n",
       " 'Merwin',\n",
       " 'write',\n",
       " 'instead',\n",
       " 'Amy',\n",
       " 'Brewster',\n",
       " 'mysteries']"
      ]
     },
     "execution_count": 47,
     "metadata": {},
     "output_type": "execute_result"
    }
   ],
   "source": [
    "#after filtering for digits\n",
    "positive_words_digits_filtered[5]"
   ]
  },
  {
   "cell_type": "markdown",
   "metadata": {},
   "source": [
    "### Text cleaning"
   ]
  },
  {
   "cell_type": "markdown",
   "metadata": {},
   "source": [
    "In the subsequent step, the unnecessary characters or incomplete characters are cleaned. For eg: 's, some symbols etc are replaced with comma, replacing contracted words like n't to not (note that I have not handled for all contracted words. Only few of them.)\n",
    "The function clean_words_for_incomplete_characters will help us achieve this."
   ]
  },
  {
   "cell_type": "code",
   "execution_count": 48,
   "metadata": {},
   "outputs": [],
   "source": [
    "incomplete_characters = {\"'s\":\",\", \"--\":\",\", \"n't\":\"not\", \"``\":\",\", \"...\":\",\",\"''\":\",\", \"'ll\":\"will\",\"'ve\":\"have\",\"'m\":\",\",\"'d\":\",\"}"
   ]
  },
  {
   "cell_type": "code",
   "execution_count": 49,
   "metadata": {},
   "outputs": [],
   "source": [
    "def clean_words_for_incomplete_characters(words_list):\n",
    "    all_words_filtered = []\n",
    "    for word in words_list:\n",
    "        if word.lower() in incomplete_characters:\n",
    "            word = incomplete_characters[word.lower()]\n",
    "            all_words_filtered.append(word)\n",
    "            #return word\n",
    "        else:\n",
    "            all_words_filtered.append(word)\n",
    "            #return word\n",
    "    return all_words_filtered"
   ]
  },
  {
   "cell_type": "code",
   "execution_count": 50,
   "metadata": {},
   "outputs": [],
   "source": [
    "#cleaning word list further for incomplete characters\n",
    "positive_text_cleaned = [clean_words_for_incomplete_characters(word) for word in positive_words_digits_filtered]\n",
    "negative_text_cleaned = [clean_words_for_incomplete_characters(word) for word in negative_words_digits_filtered]"
   ]
  },
  {
   "cell_type": "code",
   "execution_count": 51,
   "metadata": {},
   "outputs": [
    {
     "data": {
      "text/plain": [
       "['able',\n",
       " 'get',\n",
       " 'book',\n",
       " 'several',\n",
       " 'years',\n",
       " 'ago',\n",
       " 'free',\n",
       " 'Kindle',\n",
       " \"'m\",\n",
       " 'getting',\n",
       " '``',\n",
       " 'read',\n",
       " \"''\",\n",
       " 'list',\n",
       " \"'m\",\n",
       " 'quite',\n",
       " 'sure',\n",
       " \"n't\",\n",
       " 'recognize',\n",
       " 'got',\n",
       " 'Amazon',\n",
       " 'anymore',\n",
       " 'usually',\n",
       " 'top',\n",
       " 'product',\n",
       " 'page',\n",
       " 'wish',\n",
       " 'book',\n",
       " 'longer',\n",
       " 'real',\n",
       " 'problem',\n",
       " 'even',\n",
       " 'short',\n",
       " 'would',\n",
       " 'preferred',\n",
       " 'chapter',\n",
       " 'demarcations',\n",
       " 'would',\n",
       " 'make',\n",
       " 'much',\n",
       " 'easier',\n",
       " 'find',\n",
       " 'stopping',\n",
       " 'place',\n",
       " 'see',\n",
       " 'close',\n",
       " 'end',\n",
       " 'chapter',\n",
       " 'need/want',\n",
       " \"'s\",\n",
       " 'much',\n",
       " 'big',\n",
       " 'problem',\n",
       " 'book',\n",
       " 'short',\n",
       " \"'re\",\n",
       " 'reading',\n",
       " 'novella',\n",
       " \"'s\",\n",
       " 'still',\n",
       " 'nice',\n",
       " 'really',\n",
       " 'felt',\n",
       " 'characters',\n",
       " 'book',\n",
       " 'seem',\n",
       " 'mostly',\n",
       " 'real',\n",
       " 'bit',\n",
       " 'irrationality',\n",
       " 'mixed',\n",
       " \"n't\",\n",
       " 'think',\n",
       " 'would',\n",
       " 'completely',\n",
       " 'way',\n",
       " 'real',\n",
       " 'life',\n",
       " 'wo',\n",
       " \"n't\",\n",
       " 'bore',\n",
       " 'plot',\n",
       " 'summary',\n",
       " 'know',\n",
       " 'reviewers',\n",
       " 'fond',\n",
       " 'like',\n",
       " 'light',\n",
       " 'adventure',\n",
       " 'stories',\n",
       " 'smattering',\n",
       " 'intrigue',\n",
       " 'suspense',\n",
       " 'think',\n",
       " \"'ll\",\n",
       " 'enjoy',\n",
       " 'story',\n",
       " 'especially',\n",
       " 'like',\n",
       " 'tad',\n",
       " 'sexual',\n",
       " 'tension',\n",
       " 'titillation',\n",
       " 'ca',\n",
       " \"n't\",\n",
       " 'wait',\n",
       " 'read',\n",
       " 'next',\n",
       " 'one']"
      ]
     },
     "execution_count": 51,
     "metadata": {},
     "output_type": "execute_result"
    }
   ],
   "source": [
    "#the above steps results' are illustrated in the following sample output:\n",
    "positive_words_digits_filtered[91]"
   ]
  },
  {
   "cell_type": "markdown",
   "metadata": {},
   "source": [
    "During text cleaning process, some characters and symbols where replaced with comma (check previous step). Hence in the next step we are removing the comma's from our word list."
   ]
  },
  {
   "cell_type": "code",
   "execution_count": 52,
   "metadata": {},
   "outputs": [],
   "source": [
    "#function for removing comma's\n",
    "def remove_comma(word_list):\n",
    "    final_list=[]\n",
    "    comma = [',']\n",
    "    for w in word_list:\n",
    "        if not w in comma:\n",
    "            final_list.append(w)         \n",
    "    \n",
    "    return final_list"
   ]
  },
  {
   "cell_type": "code",
   "execution_count": 53,
   "metadata": {},
   "outputs": [],
   "source": [
    "final_positive_word_list = [remove_comma(w) for w in positive_text_cleaned]\n",
    "final_negative_word_list = [remove_comma(w) for w in negative_text_cleaned]"
   ]
  },
  {
   "cell_type": "code",
   "execution_count": 54,
   "metadata": {},
   "outputs": [
    {
     "data": {
      "text/plain": [
       "109"
      ]
     },
     "execution_count": 54,
     "metadata": {},
     "output_type": "execute_result"
    }
   ],
   "source": [
    "len(positive_text_cleaned[91])"
   ]
  },
  {
   "cell_type": "code",
   "execution_count": 55,
   "metadata": {},
   "outputs": [
    {
     "data": {
      "text/plain": [
       "103"
      ]
     },
     "execution_count": 55,
     "metadata": {},
     "output_type": "execute_result"
    }
   ],
   "source": [
    "len(final_positive_word_list[91])"
   ]
  },
  {
   "cell_type": "markdown",
   "metadata": {},
   "source": [
    "### Word cloud and most common words"
   ]
  },
  {
   "cell_type": "markdown",
   "metadata": {},
   "source": [
    "Here a complete list of words from both positive and negative reviews are created in the following step, inorder to build a word cloud image"
   ]
  },
  {
   "cell_type": "code",
   "execution_count": 56,
   "metadata": {},
   "outputs": [],
   "source": [
    "import itertools\n",
    "total_words = final_positive_word_list + final_negative_word_list\n",
    "all_words = list(itertools.chain.from_iterable(total_words))"
   ]
  },
  {
   "cell_type": "code",
   "execution_count": 57,
   "metadata": {},
   "outputs": [
    {
     "data": {
      "text/plain": [
       "206903"
      ]
     },
     "execution_count": 57,
     "metadata": {},
     "output_type": "execute_result"
    }
   ],
   "source": [
    "len(all_words)"
   ]
  },
  {
   "cell_type": "code",
   "execution_count": 58,
   "metadata": {},
   "outputs": [
    {
     "data": {
      "text/plain": [
       "4000"
      ]
     },
     "execution_count": 58,
     "metadata": {},
     "output_type": "execute_result"
    }
   ],
   "source": [
    "len(total_words)"
   ]
  },
  {
   "cell_type": "code",
   "execution_count": 59,
   "metadata": {},
   "outputs": [
    {
     "data": {
      "image/png": "[encoded data removed]",
      "text/plain": [
       "<Figure size 432x288 with 1 Axes>"
      ]
     },
     "metadata": {},
     "output_type": "display_data"
    }
   ],
   "source": [
    "# Create and generate a word cloud image:\n",
    "stopwords = set(STOPWORDS)\n",
    "wordcloud = WordCloud(stopwords=stopwords,background_color=\"white\").generate(str(all_words))\n",
    "# Display the generated image:\n",
    "plt.imshow(wordcloud, interpolation='bilinear')\n",
    "plt.title(\"Word cloud generated from the reviews for Amazon kindle store category\")\n",
    "plt.axis(\"off\")\n",
    "plt.show()"
   ]
  },
  {
   "cell_type": "markdown",
   "metadata": {},
   "source": [
    "In the word cloud diagram, we see a words which basically implies that the reviews are indeed on books"
   ]
  },
  {
   "cell_type": "markdown",
   "metadata": {},
   "source": [
    "It would be interesting as well as informative to plot the Frequencies of the word in positive and negative reviews. "
   ]
  },
  {
   "cell_type": "code",
   "execution_count": 60,
   "metadata": {},
   "outputs": [],
   "source": [
    "from collections import Counter\n",
    "word_counter = Counter(all_words)"
   ]
  },
  {
   "cell_type": "code",
   "execution_count": 61,
   "metadata": {},
   "outputs": [],
   "source": [
    "most_common_words = word_counter.most_common()[:15]"
   ]
  },
  {
   "cell_type": "code",
   "execution_count": 62,
   "metadata": {},
   "outputs": [
    {
     "data": {
      "text/plain": [
       "[('book', 3803),\n",
       " ('not', 3345),\n",
       " ('story', 2797),\n",
       " ('read', 2416),\n",
       " ('one', 1826),\n",
       " ('like', 1542),\n",
       " ('would', 1356),\n",
       " ('love', 1197),\n",
       " ('characters', 1176),\n",
       " ('good', 1087),\n",
       " ('books', 1058),\n",
       " ('really', 1053),\n",
       " ('get', 1012),\n",
       " ('could', 973),\n",
       " ('author', 934)]"
      ]
     },
     "execution_count": 62,
     "metadata": {},
     "output_type": "execute_result"
    }
   ],
   "source": [
    "most_common_words"
   ]
  },
  {
   "cell_type": "code",
   "execution_count": 63,
   "metadata": {},
   "outputs": [
    {
     "data": {
      "image/png": "[encoded data removed]",
      "text/plain": [
       "<Figure size 432x288 with 1 Axes>"
      ]
     },
     "metadata": {},
     "output_type": "display_data"
    }
   ],
   "source": [
    "sorted_word_counts = sorted(list(word_counter.values()), reverse=True)\n",
    "\n",
    "plt.loglog(sorted_word_counts)\n",
    "plt.ylabel(\"Freq\")\n",
    "plt.xlabel(\"Word Rank\");"
   ]
  },
  {
   "cell_type": "markdown",
   "metadata": {},
   "source": [
    "### Building Bag of words Model for Feature Generation"
   ]
  },
  {
   "cell_type": "markdown",
   "metadata": {},
   "source": [
    "Here we are building a matrix from the words list. We need to build negative features and positive features separately inorder to train and test our classifier model for sentiment analysis.\n",
    "A separate dictionary of words for both positive and negative reviews is created and we associate with the label 'pos' and 'neg' to it."
   ]
  },
  {
   "cell_type": "code",
   "execution_count": 64,
   "metadata": {},
   "outputs": [],
   "source": [
    "#function for creating Bag of words\n",
    "def build_bag_of_words_features_filtered(words):\n",
    "    return {word:1 for word in words}"
   ]
  },
  {
   "cell_type": "code",
   "execution_count": 65,
   "metadata": {},
   "outputs": [],
   "source": [
    "positive_features = [(build_bag_of_words_features_filtered(words),'pos') for words in final_positive_word_list]\n",
    "negative_features = [(build_bag_of_words_features_filtered(words),'neg') for words in final_negative_word_list]"
   ]
  },
  {
   "cell_type": "code",
   "execution_count": 66,
   "metadata": {},
   "outputs": [
    {
     "data": {
      "text/plain": [
       "2000"
      ]
     },
     "execution_count": 66,
     "metadata": {},
     "output_type": "execute_result"
    }
   ],
   "source": [
    "len(negative_features)"
   ]
  },
  {
   "cell_type": "code",
   "execution_count": 67,
   "metadata": {},
   "outputs": [
    {
     "data": {
      "text/plain": [
       "({'never': 1,\n",
       "  'read': 1,\n",
       "  'Amy': 1,\n",
       "  'Brewster': 1,\n",
       "  'mysteries': 1,\n",
       "  'one..': 1,\n",
       "  'really': 1,\n",
       "  'hooked': 1},\n",
       " 'pos')"
      ]
     },
     "execution_count": 67,
     "metadata": {},
     "output_type": "execute_result"
    }
   ],
   "source": [
    "positive_features[3]"
   ]
  },
  {
   "cell_type": "markdown",
   "metadata": {},
   "source": [
    "### Train a classifier"
   ]
  },
  {
   "cell_type": "code",
   "execution_count": 68,
   "metadata": {},
   "outputs": [],
   "source": [
    "from nltk.classify import NaiveBayesClassifier"
   ]
  },
  {
   "cell_type": "markdown",
   "metadata": {},
   "source": [
    "Here I am using 80% of the date in order to train my model. For 2000 reviews 1600 will be 80%."
   ]
  },
  {
   "cell_type": "code",
   "execution_count": 69,
   "metadata": {},
   "outputs": [],
   "source": [
    "split=1600"
   ]
  },
  {
   "cell_type": "code",
   "execution_count": 70,
   "metadata": {},
   "outputs": [],
   "source": [
    "sentiment_classifier = NaiveBayesClassifier.train(positive_features[:split]+negative_features[:split])"
   ]
  },
  {
   "cell_type": "code",
   "execution_count": 71,
   "metadata": {},
   "outputs": [
    {
     "data": {
      "text/plain": [
       "96.125"
      ]
     },
     "execution_count": 71,
     "metadata": {},
     "output_type": "execute_result"
    }
   ],
   "source": [
    "nltk.classify.util.accuracy(sentiment_classifier, positive_features[:split]+negative_features[:split])*100"
   ]
  },
  {
   "cell_type": "code",
   "execution_count": 72,
   "metadata": {},
   "outputs": [
    {
     "data": {
      "text/plain": [
       "82.0"
      ]
     },
     "execution_count": 72,
     "metadata": {},
     "output_type": "execute_result"
    }
   ],
   "source": [
    "nltk.classify.util.accuracy(sentiment_classifier, positive_features[split:]+negative_features[split:])*100"
   ]
  },
  {
   "cell_type": "code",
   "execution_count": 73,
   "metadata": {},
   "outputs": [
    {
     "name": "stdout",
     "output_type": "stream",
     "text": [
      "Most Informative Features\n",
      "                  poorly = 1                 neg : pos    =     27.7 : 1.0\n",
      "                   Verne = 1                 pos : neg    =     25.0 : 1.0\n",
      "                 grammar = 1                 neg : pos    =     24.3 : 1.0\n",
      "                  errors = 1                 neg : pos    =     23.8 : 1.0\n",
      "           disappointing = 1                 neg : pos    =     23.0 : 1.0\n",
      "                   Jules = 1                 pos : neg    =     21.7 : 1.0\n",
      "                sentence = 1                 neg : pos    =     21.7 : 1.0\n",
      "                Reviewed = 1                 pos : neg    =     17.8 : 1.0\n",
      "                Joyfully = 1                 pos : neg    =     17.0 : 1.0\n",
      "                  boring = 1                 neg : pos    =     16.6 : 1.0\n"
     ]
    }
   ],
   "source": [
    "sentiment_classifier.show_most_informative_features()"
   ]
  },
  {
   "cell_type": "code",
   "execution_count": null,
   "metadata": {},
   "outputs": [],
   "source": []
  }
 ],
 "metadata": {
  "kernelspec": {
   "display_name": "Python 3",
   "language": "python",
   "name": "python3"
  },
  "language_info": {
   "codemirror_mode": {
    "name": "ipython",
    "version": 3
   },
   "file_extension": ".py",
   "mimetype": "text/x-python",
   "name": "python",
   "nbconvert_exporter": "python",
   "pygments_lexer": "ipython3",
   "version": "3.6.5"
  }
 },
 "nbformat": 4,
 "nbformat_minor": 2
}
